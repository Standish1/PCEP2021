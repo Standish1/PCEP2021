{
 "cells": [
  {
   "cell_type": "code",
   "execution_count": null,
   "id": "29d8654b",
   "metadata": {},
   "outputs": [
    {
     "name": "stdout",
     "output_type": "stream",
     "text": [
      "Enter Rock, Paper, or Scissors (R, P, S): R\n",
      "Player2 wins\n",
      "Player1's choice: R\n",
      "Player2's choice: P\n",
      "\n",
      "Enter Rock, Paper, or Scissors (R, P, S): S\n",
      "Tied\n",
      "Player1's choice: S\n",
      "Player2's choice: S\n",
      "\n",
      "Enter Rock, Paper, or Scissors (R, P, S): P\n",
      "Player1 wins\n",
      "Player1's choice: P\n",
      "Player2's choice: S\n",
      "\n"
     ]
    }
   ],
   "source": [
    "# Rock, paper, Scissors program. You are \"Player1. Computer is \"Player2\"\n",
    "import random\n",
    "\n",
    "while True:\n",
    "    \n",
    "    choice1 = input(\"Enter Rock, Paper, or Scissors (R, P, S): \")\n",
    "\n",
    "\n",
    "    choice2 = random.randint(1,3)\n",
    "    if choice2 == 1:\n",
    "        choice2 = \"R\"\n",
    "    elif choice2 == 2:\n",
    "        choice2 = \"P\"\n",
    "    elif choice2 == 3:\n",
    "        choice2 = \"S\"\n",
    "\n",
    "\n",
    "    if (choice1 == choice2):\n",
    "        print(\"Tied\")\n",
    "\n",
    "    elif choice1 == \"R\":\n",
    "        if choice2 == \"S\":\n",
    "            print(\"Player1: Rock breaks Scissors\")\n",
    "        else:\n",
    "            print(\"Player2 wins\")\n",
    "    \n",
    "    elif choice1 == \"P\":\n",
    "        if choice2 == \"R\":\n",
    "            print(\"Player2: Paper covers Rock!\")\n",
    "        else:\n",
    "            print(\"Player1 wins\")\n",
    "          \n",
    "    elif choice1 == \"S\":\n",
    "        if choice2 == \"P\":\n",
    "            print(\"Player1: Scissors cut Paper!\")\n",
    "        else:\n",
    "            print(\"Player2 wins!\")\n",
    "        \n",
    "    print(\"Player1's choice: \" + choice1 + \"\\nPlayer2's choice: \" + choice2 + \"\\n\")\n",
    "#    choice1 = input(\"Again enter Rock, Paper, or Scissors (R, P, S): \")"
   ]
  },
  {
   "cell_type": "code",
   "execution_count": null,
   "id": "a7ae4025",
   "metadata": {},
   "outputs": [],
   "source": []
  }
 ],
 "metadata": {
  "kernelspec": {
   "display_name": "Python 3",
   "language": "python",
   "name": "python3"
  },
  "language_info": {
   "codemirror_mode": {
    "name": "ipython",
    "version": 3
   },
   "file_extension": ".py",
   "mimetype": "text/x-python",
   "name": "python",
   "nbconvert_exporter": "python",
   "pygments_lexer": "ipython3",
   "version": "3.8.8"
  }
 },
 "nbformat": 4,
 "nbformat_minor": 5
}
