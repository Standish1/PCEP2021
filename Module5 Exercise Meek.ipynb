{
 "cells": [
  {
   "cell_type": "markdown",
   "metadata": {},
   "source": [
    "1. Round 4.5667 to the nearest hundreth using a build-in function, round()."
   ]
  },
  {
   "cell_type": "code",
   "execution_count": 2,
   "metadata": {},
   "outputs": [
    {
     "data": {
      "text/plain": [
       "4.57"
      ]
     },
     "execution_count": 2,
     "metadata": {},
     "output_type": "execute_result"
    }
   ],
   "source": [
    "round(4.5667, 2)   # round to hunredth is 2 dcimal places"
   ]
  },
  {
   "cell_type": "markdown",
   "metadata": {},
   "source": [
    "2. Convert \"657\" to an integer data type"
   ]
  },
  {
   "cell_type": "code",
   "execution_count": 29,
   "metadata": {},
   "outputs": [
    {
     "name": "stdout",
     "output_type": "stream",
     "text": [
      "String value 657 assigned to variable a is coverted to <class 'int'>\n"
     ]
    }
   ],
   "source": [
    "a = int(\"657\")\n",
    "print(f\"String value {a} assigned to variable a is coverted to {type(a)}\")"
   ]
  },
  {
   "cell_type": "markdown",
   "metadata": {},
   "source": [
    "3.\n",
    "Write a program to get two numbers from a user. Then, create a secret code where a code consists of 6 numbers and each number is randomly generated number between two numbers from a user. "
   ]
  },
  {
   "cell_type": "code",
   "execution_count": 4,
   "metadata": {},
   "outputs": [
    {
     "name": "stdout",
     "output_type": "stream",
     "text": [
      "Enter integer number: 395\n",
      "Enter larger integer: 694\n",
      "Secret code is:522 622 510 557 437 505\n"
     ]
    }
   ],
   "source": [
    "# get two numbers from a user - what data type is it?\n",
    "import random as rand\n",
    "\n",
    "low_lim = int(input(\"Enter integer number: \"))\n",
    "\n",
    "hi_lim =int(input(\"Enter larger integer: \"))\n",
    "\n",
    "# generate two random numbers\n",
    "r1 = rand.randint(low_lim, hi_lim)\n",
    "r2 = rand.randint(low_lim, hi_lim)\n",
    "r3 = rand.randint(low_lim, hi_lim)\n",
    "r4 = rand.randint(low_lim, hi_lim)\n",
    "r5 = rand.randint(low_lim, hi_lim)\n",
    "r6 = rand.randint(low_lim, hi_lim)\n",
    "\n",
    "print(f\"Secret code is:{r1} {r2} {r3} {r4} {r5} {r6}\")\n"
   ]
  },
  {
   "cell_type": "markdown",
   "metadata": {},
   "source": [
    "4.\n",
    "Write a program to center align below text where number of characters per line is 40:\n",
    "\n",
    "    Hickory, dickory, dock,\n",
    "    The mouse ran up the clock.\n",
    "    The clock struck one,\n",
    "    The mouse ran down,\n",
    "    Hickory, dickory, dock\n",
    "\n",
    "<b>Do not use string's center method! </b>"
   ]
  },
  {
   "cell_type": "code",
   "execution_count": 4,
   "metadata": {},
   "outputs": [
    {
     "name": "stdout",
     "output_type": "stream",
     "text": [
      "1234567890123456789012345678901234567890\n",
      "        Hickory, dickory, dock,        \n",
      "      The mouse ran up the clock.      \n",
      "         The clock struck one,         \n",
      "          The mouse ran down,          \n",
      "         Hickory, dickory, dock         \n"
     ]
    }
   ],
   "source": [
    "line1 = \"Hickory, dickory, dock,\"\n",
    "line2 = \"The mouse ran up the clock.\"\n",
    "line3 = \"The clock struck one,\"\n",
    "line4 = \"The mouse ran down,\"\n",
    "line5 = \"Hickory, dickory, dock\"\n",
    "\n",
    "MAX_CHAR=40\n",
    "DELIM=' '\n",
    "print(\"1234567890123456789012345678901234567890\")  #visualize max space\n",
    "\n",
    "line1 = line1.strip()\n",
    "diff = MAX_CHAR - len(line1)\n",
    "padding = DELIM * int(diff/2)\n",
    "print(f\"{padding}{line1}{padding}\")\n",
    "\n",
    "line2 = line2.strip()\n",
    "diff = MAX_CHAR - len(line2)\n",
    "padding = DELIM * int(diff/2)\n",
    "print(f\"{padding}{line2}{padding}\")\n",
    "\n",
    "line3 = line3.strip()\n",
    "diff = MAX_CHAR - len(line3)\n",
    "padding=DELIM * int(diff/2)\n",
    "print(f\"{padding}{line3}{padding}\")\n",
    "\n",
    "line4 = line4.strip()\n",
    "diff = MAX_CHAR - len(line4)\n",
    "padding=DELIM * int(diff/2)\n",
    "print(f\"{padding}{line4}{padding}\")\n",
    "\n",
    "line5 = line5.strip()\n",
    "diff = MAX_CHAR - len(line5)\n",
    "padding = DELIM * int(diff/2)\n",
    "print(f\"{padding}{line5}{padding}\")"
   ]
  },
  {
   "cell_type": "markdown",
   "metadata": {},
   "source": [
    "5. Write a function to calculate the miles per gallon.\n",
    "Get a miles driven and gallons used from a user and call your function to calculate the miles per gallon. "
   ]
  },
  {
   "cell_type": "code",
   "execution_count": 20,
   "metadata": {},
   "outputs": [
    {
     "name": "stdout",
     "output_type": "stream",
     "text": [
      "Miles per gallon program\n",
      "\n",
      "Enter miles driven: 75\n",
      "Enter gallons used: 2.5\n",
      "Miles per gallon: 30.0\n"
     ]
    }
   ],
   "source": [
    "print(\"Miles per gallon program\\n\")\n",
    "\n",
    "miles = float(input(\"Enter miles driven: \"))\n",
    "gallons = float(input(\"Enter gallons used: \"))\n",
    "calc_mpg(miles, gallons)\n",
    "\n",
    "\n",
    "def calc_mpg(x, y) :\n",
    "    mpg = x / y\n",
    "    print(f\"Miles per gallon: {mpg}\")\n",
    "    \n",
    "\n"
   ]
  }
 ],
 "metadata": {
  "kernelspec": {
   "display_name": "Python 3",
   "language": "python",
   "name": "python3"
  },
  "language_info": {
   "codemirror_mode": {
    "name": "ipython",
    "version": 3
   },
   "file_extension": ".py",
   "mimetype": "text/x-python",
   "name": "python",
   "nbconvert_exporter": "python",
   "pygments_lexer": "ipython3",
   "version": "3.8.8"
  }
 },
 "nbformat": 4,
 "nbformat_minor": 4
}
