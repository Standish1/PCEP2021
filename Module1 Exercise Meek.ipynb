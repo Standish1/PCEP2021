{
 "cells": [
  {
   "cell_type": "markdown",
   "metadata": {},
   "source": [
    "## Questions"
   ]
  },
  {
   "cell_type": "markdown",
   "metadata": {},
   "source": [
    "1. What is a hardware?"
   ]
  },
  {
   "cell_type": "markdown",
   "metadata": {},
   "source": [
    "Hardware is the physical circuitry in which the written program is stored and executed."
   ]
  },
  {
   "cell_type": "markdown",
   "metadata": {},
   "source": [
    "2. What is a software?"
   ]
  },
  {
   "cell_type": "raw",
   "metadata": {},
   "source": [
    "Software is the stored program written in a particular language (code)that performs desired functions using the hardware circuitry."
   ]
  },
  {
   "cell_type": "markdown",
   "metadata": {},
   "source": [
    "3. Convert 10011001 to a decimal number"
   ]
  },
  {
   "cell_type": "markdown",
   "metadata": {},
   "source": [
    "1*(2^7) + 0*(2^6) + 0*(2^5) + 1*(2^4) + 1*(2^3) + 0*(2^2) + 0*(2^1) + 1*(2^0) = 128 + 16 + 8 + 1 = 153"
   ]
  },
  {
   "cell_type": "markdown",
   "metadata": {},
   "source": [
    "4. Convert 11101100 to a decimal number"
   ]
  },
  {
   "cell_type": "markdown",
   "metadata": {},
   "source": [
    "1*(2^7) + 1*(2^6) + 1*(2^5) + 0*(2^4) + 1*(2^3) + 1*(2^2) + 0*(2^1) + 0*(2^0) = 128 + 64 + 32 + 8 + 4 = 236"
   ]
  },
  {
   "cell_type": "markdown",
   "metadata": {},
   "source": [
    "5. Decode this secret message:\n",
    "01001100 01101111 01100111 01101001 01100011"
   ]
  },
  {
   "cell_type": "markdown",
   "metadata": {},
   "source": [
    "(64+8+4)(64+32+8+4+2+1)(64+32+4+2+1)(64+32+8+1)(64+32+2+1)\n",
    "   76          111          103         105        99\n",
    "    L           o            g           i          c    = Logic"
   ]
  },
  {
   "cell_type": "markdown",
   "metadata": {},
   "source": [
    "6. Identify and explain stages of Programming."
   ]
  },
  {
   "cell_type": "markdown",
   "metadata": {},
   "source": [
    "The stages of programming can be organized according to several paradigms, including Procedural, Data, or Event (Object Oriented) driven. For a given paradigm, the Waterfll or Agile methodology (method) may be chosen. The Waterfall stages are sequential, starting with the Requirements Analysis needed for the Design stage, and continuing on to the Implementation and Testing stages, and finally the Installation stage. The Agile method is iterative, starting withe Plan stage, and continuing in a loop through the Build, Launch, and Learn stages back to the Plan stage for continuous improvement. "
   ]
  },
  {
   "cell_type": "markdown",
   "metadata": {},
   "source": [
    "7. You need to write a program to compute total sales amount when sales tax is 5%. Identify IPO (input, process, output) for this program."
   ]
  },
  {
   "cell_type": "markdown",
   "metadata": {},
   "source": [
    "Input = enter sales price, Process = compute and add 5% tax to price, Output = print total sales price"
   ]
  },
  {
   "cell_type": "markdown",
   "metadata": {},
   "source": [
    "8. Identify IPO for converting liters to US gallons."
   ]
  },
  {
   "cell_type": "markdown",
   "metadata": {},
   "source": [
    "Input = enter liters used, Process = #(gallons/liter) x liters used, Output =  print #gallons used"
   ]
  },
  {
   "cell_type": "markdown",
   "metadata": {},
   "source": [
    "9. Identify IPO for computing a worker's pay. What information/data do you need?"
   ]
  },
  {
   "cell_type": "markdown",
   "metadata": {},
   "source": [
    "Input = enter hourly pay rate and #hours worked,      Process = #hours worked x hourly pay,    Output = print total pay"
   ]
  }
 ],
 "metadata": {
  "kernelspec": {
   "display_name": "Python 3",
   "language": "python",
   "name": "python3"
  },
  "language_info": {
   "codemirror_mode": {
    "name": "ipython",
    "version": 3
   },
   "file_extension": ".py",
   "mimetype": "text/x-python",
   "name": "python",
   "nbconvert_exporter": "python",
   "pygments_lexer": "ipython3",
   "version": "3.8.8"
  }
 },
 "nbformat": 4,
 "nbformat_minor": 4
}
