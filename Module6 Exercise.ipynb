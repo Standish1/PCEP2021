{
 "cells": [
  {
   "cell_type": "markdown",
   "metadata": {},
   "source": [
    "### Exercise 1\n",
    "Convert following decimal number to a binary number by hand:\n",
    "\n",
    "    61\n",
    "    15\n",
    "    71\n",
    "    "
   ]
  },
  {
   "cell_type": "code",
   "execution_count": 23,
   "metadata": {},
   "outputs": [
    {
     "name": "stdout",
     "output_type": "stream",
     "text": [
      "The binary value of 61 = 0111101\n",
      "The binary value of 15 = 0001111\n",
      "The binary value of 71 = 1000111\n"
     ]
    }
   ],
   "source": [
    "\n",
    "num = [61, 15, 71]\n",
    "\n",
    "for i in num:\n",
    "    b6 = i // 64       # 2^6\n",
    "    r6 = i % 64\n",
    "    b5 = r6 // 32     # 2^5\n",
    "    r5 = r6 % 32\n",
    "    b4 = r5 // 16     # 2^4\n",
    "    r4 = r5 % 16\n",
    "    b3 = r4 // 8      # 2^3\n",
    "    r3 = r4 % 8\n",
    "    b2 = r3 // 4      # 2^2\n",
    "    r2 = r3 % 4\n",
    "    b1 = r2 // 2      # 2^1\n",
    "    r1 = r2 % 2\n",
    "    b0 = r1 // 1      # 2^0\n",
    "    \n",
    "    print(f\"The binary value of {i} = {b6}{b5}{b4}{b3}{b2}{b1}{b0}\")"
   ]
  },
  {
   "cell_type": "markdown",
   "metadata": {},
   "source": [
    "### Exercise 2\n",
    "When a = 61 and b = 15, what is the result of following bitwise opertion? Use inline comments to show your result in a binary number. Find your answer by hand.\n",
    "\n",
    "    a & b\n",
    "    a | b\n",
    "    a ^ b\n",
    "    a >> 2\n",
    "    "
   ]
  },
  {
   "cell_type": "code",
   "execution_count": 4,
   "metadata": {},
   "outputs": [
    {
     "name": "stdout",
     "output_type": "stream",
     "text": [
      "61 = 0b111101 binary\n",
      "15  =  0b1111 binary\n"
     ]
    }
   ],
   "source": [
    "a = int(61)\n",
    "b = int (15)\n",
    "\n",
    "a_bin = bin(a)       # convert a in to a binary number\n",
    "b_bin = bin(b)       # convert b in to a binary number\n",
    "\n",
    "print(f\"{a} = {a_bin} binary\")\n",
    "print(f\"{b}  =  {b_bin} binary\")"
   ]
  },
  {
   "cell_type": "code",
   "execution_count": 16,
   "metadata": {},
   "outputs": [
    {
     "name": "stdout",
     "output_type": "stream",
     "text": [
      "61 =  0b111101 binary\n",
      "15  =   0b1111 binary\n",
      "a & b = 0b1101 = 13\n"
     ]
    }
   ],
   "source": [
    "# a & b\n",
    "c = bin(a & b)\n",
    "\n",
    "print(f\"{a} =  {a_bin} binary\")\n",
    "print(f\"{b}  =   {b_bin} binary\")\n",
    "print(f\"a & b = {c} = {a & b}\")      # logical AND of a, b"
   ]
  },
  {
   "cell_type": "code",
   "execution_count": 17,
   "metadata": {},
   "outputs": [
    {
     "name": "stdout",
     "output_type": "stream",
     "text": [
      "61  =   0b111101 binary\n",
      "15   =    0b1111 binary\n",
      "a | b = 0b111111 = 63\n"
     ]
    }
   ],
   "source": [
    "# a | b\n",
    "d = bin(a | b)\n",
    "\n",
    "print(f\"{a}  =   {a_bin} binary\")\n",
    "print(f\"{b}   =    {b_bin} binary\")\n",
    "print(f\"a | b = {d} = {a | b}\")       # logical OR of a, b"
   ]
  },
  {
   "cell_type": "code",
   "execution_count": 18,
   "metadata": {},
   "outputs": [
    {
     "name": "stdout",
     "output_type": "stream",
     "text": [
      "61  =   0b111101 binary\n",
      "15   =    0b1111 binary\n",
      "a ^ b = 0b110010 = 50\n"
     ]
    }
   ],
   "source": [
    "# a ^ b\n",
    "e = bin(a ^ b)\n",
    "\n",
    "print(f\"{a}  =   {a_bin} binary\")\n",
    "print(f\"{b}   =    {b_bin} binary\")\n",
    "print(f\"a ^ b = {e} = {a ^ b}\")       # logical OR of a, b"
   ]
  },
  {
   "cell_type": "code",
   "execution_count": 23,
   "metadata": {},
   "outputs": [
    {
     "name": "stdout",
     "output_type": "stream",
     "text": [
      "61  =  0b111101 binary\n",
      "a >> 2 = 0b1111 = 15\n"
     ]
    }
   ],
   "source": [
    "# a >> 2\n",
    "f = bin(a >> 2)\n",
    "\n",
    "print(f\"{a}  =  {a_bin} binary\")\n",
    "#print(f\"{b}   =    {b_bin} binary\")\n",
    "print(f\"a >> 2 = {f} = {a >> 2}\")       #  SHIFT a = 111101 right two places"
   ]
  },
  {
   "cell_type": "markdown",
   "metadata": {},
   "source": [
    "### Exercise 3\n",
    "Ask a user for a code and store that answer. \n",
    "If the answer is <b>grey</b> then print \"You found secret code.\"\n",
    "Otherwise print that the entered code is not the secret code."
   ]
  },
  {
   "cell_type": "code",
   "execution_count": 3,
   "metadata": {
    "scrolled": true
   },
   "outputs": [
    {
     "name": "stdout",
     "output_type": "stream",
     "text": [
      "Enter code: Dunder Mifflin\n",
      "Not the secret code\n"
     ]
    }
   ],
   "source": [
    "guess = input(\"Enter code: \")\n",
    "\n",
    "if guess == \"grey\" :\n",
    "    \n",
    "    print(\"You found the secret code\")\n",
    "    \n",
    "else :\n",
    "\n",
    "    print(\"Not the secret code\")\n"
   ]
  },
  {
   "cell_type": "code",
   "execution_count": 4,
   "metadata": {},
   "outputs": [
    {
     "name": "stdout",
     "output_type": "stream",
     "text": [
      "Enter code: grey\n",
      "You found the secret code\n"
     ]
    }
   ],
   "source": [
    "guess = input(\"Enter code: \")\n",
    "if guess == \"grey\" :\n",
    "    \n",
    "    print(\"You found the secret code\")\n",
    "    \n",
    "else :\n",
    "\n",
    "    print(\"Not the secret code\")"
   ]
  },
  {
   "cell_type": "markdown",
   "metadata": {},
   "source": [
    "### Exercise 4\n",
    "Ask for an exam score and store that number. If the number is greater than 100, then print out 'You cannot have an exam score higher than 100'. If the number doesn't exceeed 100 but is greater than or equal to 75, then print out 'You did great on your exam!'. Otherwise if they scored lower than 75, then print out 'You need to study harder'."
   ]
  },
  {
   "cell_type": "code",
   "execution_count": 17,
   "metadata": {},
   "outputs": [
    {
     "name": "stdout",
     "output_type": "stream",
     "text": [
      "Enter your exam score: 74\n",
      "You need to study harder.\n"
     ]
    }
   ],
   "source": [
    "score = int(input(\"Enter your exam score: \"))   # Enter score as integer\n",
    "\n",
    "if score > 100 :\n",
    "    print(\"You cannot have an exam score higher than 100\")\n",
    "    \n",
    "elif score > 74 :\n",
    "    \n",
    "    print(\"You did great on your exam!\")\n",
    "    \n",
    "else :\n",
    "        \n",
    "    print(\"You need to study harder.\")"
   ]
  },
  {
   "cell_type": "markdown",
   "metadata": {},
   "source": [
    "### Exercise 5\n",
    "Write a function to convert a test score to a grade where  \n",
    " - 90 - 100: A\n",
    " - 80 - 89:  B\n",
    " - 70 - 79:  C\n",
    " - 60 - 69:  D\n",
    " - < 60   :  F\n",
    " \n",
    "If a score is not between 0 and 100 then print out an error message. In the program, ask the user for a score and then call your function. "
   ]
  },
  {
   "cell_type": "code",
   "execution_count": 1,
   "metadata": {},
   "outputs": [],
   "source": [
    "# define your function\n",
    "def convert(score) :\n",
    "\n",
    "    if score < 0 :\n",
    "        print(f\"{score} is in ERROR\")  \n",
    "        \n",
    "    elif score > 100 :\n",
    "        print(f\"{score} is in ERROR\") \n",
    "        \n",
    "    elif score < 60 :\n",
    "        print(f\"{score} is a F\")\n",
    "        \n",
    "    elif score < 70 :\n",
    "        print(f\"{score} is a D\")\n",
    "        \n",
    "    elif score < 80 :\n",
    "        print(f\"{score} is a C\")\n",
    "        \n",
    "    elif score < 90 :\n",
    "        print(f\"{score} is a B\")\n",
    "        \n",
    "    else :\n",
    "        print(f\"{score} is an A\")\n",
    "        "
   ]
  },
  {
   "cell_type": "code",
   "execution_count": 2,
   "metadata": {},
   "outputs": [
    {
     "name": "stdout",
     "output_type": "stream",
     "text": [
      "Enter your score: 79.999\n",
      "79.999 is a C\n"
     ]
    }
   ],
   "source": [
    "# ask the user for a score and then calculate the grade\n",
    "\n",
    "score = float(input(\"Enter your score: \"))\n",
    "\n",
    "convert(score)     # call \"convert()\" function above"
   ]
  },
  {
   "cell_type": "code",
   "execution_count": 3,
   "metadata": {},
   "outputs": [
    {
     "name": "stdout",
     "output_type": "stream",
     "text": [
      "Enter your score: 80\n",
      "80.0 is a B\n"
     ]
    }
   ],
   "source": [
    "# ask the user for a score and then calculate the grade\n",
    "\n",
    "score = float(input(\"Enter your score: \"))\n",
    "\n",
    "convert(score)     # call \"convert()\" function above"
   ]
  }
 ],
 "metadata": {
  "kernelspec": {
   "display_name": "Python 3",
   "language": "python",
   "name": "python3"
  },
  "language_info": {
   "codemirror_mode": {
    "name": "ipython",
    "version": 3
   },
   "file_extension": ".py",
   "mimetype": "text/x-python",
   "name": "python",
   "nbconvert_exporter": "python",
   "pygments_lexer": "ipython3",
   "version": "3.8.8"
  }
 },
 "nbformat": 4,
 "nbformat_minor": 4
}
