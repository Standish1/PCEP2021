{
 "cells": [
  {
   "cell_type": "code",
   "execution_count": null,
   "id": "eb52d1dc",
   "metadata": {},
   "outputs": [
    {
     "name": "stdout",
     "output_type": "stream",
     "text": [
      "Welcome to MC Cafe!\n",
      "Would you like to see the menu? (y/n)y\n",
      "OK\n",
      "Espresso      $1.50 \n",
      "Americano      $2.00\n",
      "Would you like to see the menu? (y/n)n\n",
      "Nope\n",
      "Would you like to see the menu? (y/n)y\n",
      "OK\n",
      "Espresso      $1.50 \n",
      "Americano      $2.00\n"
     ]
    }
   ],
   "source": [
    "# MC Cafe ordering\n",
    "\n",
    "print(\"Welcome to MC Cafe!\")\n",
    "\n",
    "\n",
    "while True:\n",
    "\n",
    "    answer = input(\"Would you like to see the menu? (y/n)\")\n",
    "\n",
    "    if answer == \"y\": \n",
    "        print(\"OK\")\n",
    "\n",
    "        \n",
    "        menu = {'Espresso': '$1.50', 'Americano': '$2.00', 'Caffe latte': '$2.25', 'Mocha': '$2.25', 'Cappucino': '$2.50', 'Macchiato': '$2.50'}\n",
    "#        menu = {'Espresso': 1.50, 'Americano': 2.00, 'Caffe latte': 2.25, 'Mocha': 2.25, 'Cappucino': 2.50, 'Macchiato': 2.50}\n",
    "        \n",
    "        print(\"Espresso     \", menu['Espresso'], \"\\nAmericano    \", menu['Americano'])   # work due, continue later ... will need additional for pastries, etc.                                                ])\n",
    "    \n",
    "    \n",
    "    elif answer == \"n\": \n",
    "        print(\"Nope\")     # placeholder for further coding if answer is \"n\"\n",
    "    else: \n",
    "        \n",
    "        print(\"Please enter y or n.\")    # in case of invalid entry\n",
    "\n"
   ]
  },
  {
   "cell_type": "code",
   "execution_count": null,
   "id": "eacf05bd",
   "metadata": {},
   "outputs": [],
   "source": [
    "print(menu(Mocha))"
   ]
  },
  {
   "cell_type": "code",
   "execution_count": null,
   "id": "5ce3fd84",
   "metadata": {},
   "outputs": [],
   "source": []
  }
 ],
 "metadata": {
  "kernelspec": {
   "display_name": "Python 3",
   "language": "python",
   "name": "python3"
  },
  "language_info": {
   "codemirror_mode": {
    "name": "ipython",
    "version": 3
   },
   "file_extension": ".py",
   "mimetype": "text/x-python",
   "name": "python",
   "nbconvert_exporter": "python",
   "pygments_lexer": "ipython3",
   "version": "3.8.8"
  }
 },
 "nbformat": 4,
 "nbformat_minor": 5
}
