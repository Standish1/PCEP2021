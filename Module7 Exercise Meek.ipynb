{
 "cells": [
  {
   "cell_type": "markdown",
   "metadata": {},
   "source": [
    "### Exercise 1\n",
    "Ask a user for 5 names and place each one in to a list called <i>names</i>. Then, print <i>names</i>."
   ]
  },
  {
   "cell_type": "code",
   "execution_count": 31,
   "metadata": {},
   "outputs": [
    {
     "name": "stdout",
     "output_type": "stream",
     "text": [
      "Enter a name: Zoe\n",
      "Enter a name: Dan\n",
      "Enter a name: Lois\n",
      "Enter a name: Joey\n",
      "Enter a name: Fran\n",
      "['Zoe', 'Dan', 'Lois', 'Joey', 'Fran']\n",
      "Zoe, Dan, Lois, Joey, Fran\n"
     ]
    }
   ],
   "source": [
    "# create a list of five names\n",
    "names = []    # initilize list\n",
    "\n",
    "for i in range (1,6) :\n",
    "    \n",
    "    name = input(\"Enter a name: \")\n",
    "    names.append(name)\n",
    "\n",
    "print(names)\n",
    "print(*names, sep=', ')\n"
   ]
  },
  {
   "cell_type": "markdown",
   "metadata": {},
   "source": [
    "Exercise 2\n",
    "Print out a randomly selected name in the names list from exercise 1."
   ]
  },
  {
   "cell_type": "code",
   "execution_count": 46,
   "metadata": {},
   "outputs": [
    {
     "name": "stdout",
     "output_type": "stream",
     "text": [
      "Zoe\n"
     ]
    }
   ],
   "source": [
    "import random\n",
    "\n",
    "i = random.randint(0,4)\n",
    "print(names[i])\n"
   ]
  },
  {
   "cell_type": "markdown",
   "metadata": {},
   "source": [
    "### Exercise 3: \n",
    "Fix bugs in the next cell.  It is trying to create a list for even numbers between two numbers provided by a user.\n"
   ]
  },
  {
   "cell_type": "code",
   "execution_count": 33,
   "metadata": {},
   "outputs": [
    {
     "name": "stdout",
     "output_type": "stream",
     "text": [
      "Enter a starting number: 7\n",
      "Enter an ending number: 22\n",
      "Range:  [7, 8, 9, 10, 11, 12, 13, 14, 15, 16, 17, 18, 19, 20, 21, 22]\n",
      "Even numbers are:  [8, 10, 12, 14, 16, 18, 20, 22]\n"
     ]
    }
   ],
   "source": [
    "no1 = int(input(\"Enter a starting number: \"))\n",
    "no2 = int(input(\"Enter an ending number: \"))\n",
    "\n",
    "numbers = []\n",
    "evens = []\n",
    "\n",
    "for i in range(no1, no2 + 1) :\n",
    "    \n",
    "    numbers.append(i) \n",
    "    if (i%2 == 0) :   # even number\n",
    "        evens.append(i)\n",
    "    \n",
    "print(\"Range: \", numbers)    \n",
    "print(\"Even numbers are: \", evens)"
   ]
  },
  {
   "cell_type": "markdown",
   "metadata": {},
   "source": [
    "### Exercise 4\n",
    "Finish writing a program to generate 10 random numbers between 1 and 100 and save it to a list.\n",
    "Finally, print out the original numbers followed by the smallest, largest, and average number."
   ]
  },
  {
   "cell_type": "code",
   "execution_count": 63,
   "metadata": {},
   "outputs": [
    {
     "name": "stdout",
     "output_type": "stream",
     "text": [
      "Org numbers are    [41, 25, 89, 30, 96, 84, 15, 21, 98, 8]\n",
      "Sorted numbers are [8, 15, 21, 25, 30, 41, 84, 89, 96, 98]\n",
      "Smallest number is 8\n",
      "Average is 50.7\n"
     ]
    }
   ],
   "source": [
    "import random as rand\n",
    "\n",
    "numbers = []\n",
    "total = 0\n",
    "\n",
    "for i in range(1, 11) :\n",
    "    num = rand.randint(1, 100)\n",
    "    total += num\n",
    "    numbers.append(num)\n",
    "\n",
    "    \n",
    "# some code needed here to find the smallest, largest, and average number\n",
    "\n",
    "org_num = numbers\n",
    "avg = total / 10\n",
    "sorted_num = sorted(numbers)\n",
    "\n",
    "#largest = max(numbers)\n",
    "smallest = min(numbers)\n",
    "\n",
    "print(f\"Org numbers are    {numbers}\")\n",
    "print(f\"Sorted numbers are {sorted_num}\")\n",
    "print(f\"Smallest number is {smallest}\")\n",
    "print(f\"Average is {avg}\")\n"
   ]
  },
  {
   "cell_type": "markdown",
   "metadata": {},
   "source": [
    "### Exercise 5\n",
    "\n",
    "Write a function called <b>draw_triangle()</b> to draw a right triangle where the base of the triangle is the number passed in as an arguement. Call <b>draw_triangle()</b> to show it works.\n",
    "\n",
    "e.g. <b>draw_triangle(7)</b> draws as below:\n",
    "\n",
    "    *\n",
    "    **\n",
    "    ***\n",
    "    ****\n",
    "    *****\n",
    "    ******\n",
    "    *******\n"
   ]
  },
  {
   "cell_type": "code",
   "execution_count": 28,
   "metadata": {},
   "outputs": [
    {
     "name": "stdout",
     "output_type": "stream",
     "text": [
      "Enter a number: 12\n",
      "* \n",
      "* * \n",
      "* * * \n",
      "* * * * \n",
      "* * * * * \n",
      "* * * * * * \n",
      "* * * * * * * \n",
      "* * * * * * * * \n",
      "* * * * * * * * * \n",
      "* * * * * * * * * * \n",
      "* * * * * * * * * * * \n",
      "* * * * * * * * * * * * \n"
     ]
    }
   ],
   "source": [
    "ast = []\n",
    "\n",
    "base = int(input(\"Enter a number: \"))\n",
    "\n",
    "def draw_triangle(base):\n",
    "        \n",
    "    for i in range(1, base + 1):\n",
    "        for j in range(0, i):\n",
    "            print('*', end = ' ')\n",
    "        print()\n",
    "\n",
    "draw_triangle(base)\n",
    "\n"
   ]
  }
 ],
 "metadata": {
  "kernelspec": {
   "display_name": "Python 3",
   "language": "python",
   "name": "python3"
  },
  "language_info": {
   "codemirror_mode": {
    "name": "ipython",
    "version": 3
   },
   "file_extension": ".py",
   "mimetype": "text/x-python",
   "name": "python",
   "nbconvert_exporter": "python",
   "pygments_lexer": "ipython3",
   "version": "3.8.8"
  }
 },
 "nbformat": 4,
 "nbformat_minor": 4
}
