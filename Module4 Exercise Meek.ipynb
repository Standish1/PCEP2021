{
 "cells": [
  {
   "cell_type": "markdown",
   "metadata": {},
   "source": [
    "### Module 4 Exercise"
   ]
  },
  {
   "cell_type": "markdown",
   "metadata": {},
   "source": [
    "1. How many occurences of \"row\" is in \"Row, row, row your boat. Gently down the stream. Merrily, merrily, merrily, merrily. Life is but a dream. Row, row, row your boat. Gently up the creek.\" "
   ]
  },
  {
   "cell_type": "code",
   "execution_count": 9,
   "metadata": {},
   "outputs": [
    {
     "name": "stdout",
     "output_type": "stream",
     "text": [
      "There are 4 occurances of 'row' (lower case r) in the phrase.\n",
      "There are 2 occurances of 'Row' (upper case R) in the phrase.\n"
     ]
    }
   ],
   "source": [
    "phrase = \"Row, row, row your boat. Gently down the stream. Merrily, merrily, merrily, merrily. Life is but a dream. Row, row, row your boat. Gently up the creek.\"\n",
    "str_count_r = phrase.count(\"row\")    # counts \"row\" (lower case 'r'), not \"Row\"\n",
    "str_count_R = phrase.count(\"Row\")    # counts \"row\" (lower case 'r'), not \"Row\"\n",
    "\n",
    "print(f\"There are\",str_count_r,\"occurances of 'row' (lower case r) in the phrase.\")\n",
    "print(f\"There are\",str_count_R,\"occurances of 'Row' (upper case R) in the phrase.\")"
   ]
  },
  {
   "cell_type": "markdown",
   "metadata": {},
   "source": [
    "2. Ask a user for a name, color, and an animal.  <br>\n",
    "Then using string format method per each line, show following:<br>\n",
    "<b><i>name</i></b> had a little <b><i>animal</i></b>. <br>\n",
    "It was <b><i>color</i></b> as snow. <br>\n",
    "And everywhere that <b><i>name</i></b> went, the <b><i>animal</i></b> was sure to go."
   ]
  },
  {
   "cell_type": "code",
   "execution_count": 11,
   "metadata": {},
   "outputs": [
    {
     "name": "stdout",
     "output_type": "stream",
     "text": [
      "Enter a name: Spike\n",
      "Enter a color: purple\n",
      "Enter a animal: giraffe\n"
     ]
    }
   ],
   "source": [
    "name = input(\"Enter a name: \")\n",
    "color = input(\"Enter a color: \")\n",
    "animal = input(\"Enter a animal: \")"
   ]
  },
  {
   "cell_type": "code",
   "execution_count": 16,
   "metadata": {},
   "outputs": [
    {
     "name": "stdout",
     "output_type": "stream",
     "text": [
      "Spike had a little giraffe. It was purple as snow. And everywhere that Spike went, the giraffe was sure to go.\n"
     ]
    }
   ],
   "source": [
    "print(\"{0} had a little {1}. It was {2} as snow. And everywhere that {0} went, the {1} was sure to go.\".format(name, animal,color))\n",
    "#print(f\"{name} had a little {animal}. It was {color} as snow. And everywhere that {name} went, the {animal} was sure to go.\")"
   ]
  },
  {
   "cell_type": "markdown",
   "metadata": {},
   "source": [
    "3. Print 3.14159 in a scientific number notation "
   ]
  },
  {
   "cell_type": "code",
   "execution_count": 35,
   "metadata": {},
   "outputs": [
    {
     "name": "stdout",
     "output_type": "stream",
     "text": [
      "3.141590e+00\n"
     ]
    }
   ],
   "source": [
    "pi = 3.14159\n",
    "print(f\"{pi:e}\")    # \"e\" denotes scientific notation"
   ]
  },
  {
   "cell_type": "markdown",
   "metadata": {},
   "source": [
    "4. Print 3.1559 in 3 decimal places"
   ]
  },
  {
   "cell_type": "code",
   "execution_count": 40,
   "metadata": {},
   "outputs": [
    {
     "name": "stdout",
     "output_type": "stream",
     "text": [
      "3.156\n"
     ]
    }
   ],
   "source": [
    "num = 3.1559\n",
    "print(f\"{num:.3f}\")  # \"3f\" denotes float to 3 decimal places"
   ]
  },
  {
   "cell_type": "markdown",
   "metadata": {},
   "source": [
    "5. Print 1589.92341 in a scientific number notation to the power of 3"
   ]
  },
  {
   "cell_type": "code",
   "execution_count": 46,
   "metadata": {},
   "outputs": [
    {
     "name": "stdout",
     "output_type": "stream",
     "text": [
      "1.58992341e+03\n"
     ]
    }
   ],
   "source": [
    "num2 = 1589.92341\n",
    "#print(f\"{num:.3f}\")\n",
    "a=format(num2, '.8e')    #scientific number to the power of 3\n",
    "print(a)"
   ]
  },
  {
   "cell_type": "markdown",
   "metadata": {},
   "source": [
    "6. Convert 39 to a binary number using floor division and mod operators. Then, compare your answer using bin() and int() functions."
   ]
  },
  {
   "cell_type": "code",
   "execution_count": 10,
   "metadata": {},
   "outputs": [
    {
     "name": "stdout",
     "output_type": "stream",
     "text": [
      "Binary value = 1 0 0 1 1 1\n",
      "Using the 'bin()' function, bin(39) = 0b100111\n"
     ]
    }
   ],
   "source": [
    "num3 = 39 \n",
    "b1 = num3 // 32      # floor divide by 2^5 (32) gives most significant bit\n",
    "rem1 = num3 % 32\n",
    "b2 = rem1 // 16      # floor divide by 2^4 (16) gives next most significant bit\n",
    "rem2 = rem1 % 16\n",
    "b3 = rem2 // 8       # floor divide by 2^3 (8) gives next significant bit\n",
    "rem3 = rem2 % 8\n",
    "b4 = rem3 // 4       # floor divide by 2^2 (4) gives next significant bit\n",
    "rem4 = rem3 % 4\n",
    "b5 = rem4 // 2       # floor divide by 2^1 (2) gives next significant bit\n",
    "rem5 = rem4 % 2\n",
    "b6 = rem5 // 1       # floor divide by 2^0 (1) gives least significant bit\n",
    "\n",
    "print(f\"Binary value = {b1} {b2} {b3} {b4} {b5} {b6}\")\n",
    "\n",
    "a = bin(39)\n",
    "print(f\"Using the 'bin()' function, bin({num3}) = {a}\")\n",
    "\n"
   ]
  },
  {
   "cell_type": "code",
   "execution_count": 19,
   "metadata": {},
   "outputs": [
    {
     "name": "stdout",
     "output_type": "stream",
     "text": [
      "73\n",
      "12\n",
      "73 * 12 = 876\n"
     ]
    }
   ],
   "source": [
    "x = int(input())\n",
    "y = int(input())\n",
    "b = x * y\n",
    "print(f\"{x} * {y} = {(x * y)}\")"
   ]
  },
  {
   "cell_type": "code",
   "execution_count": 49,
   "metadata": {},
   "outputs": [
    {
     "name": "stdout",
     "output_type": "stream",
     "text": [
      "2 3 2\n"
     ]
    }
   ],
   "source": [
    "x = 1 \n",
    "y = 2 \n",
    "z = y\n",
    "y += x \n",
    "x = z \n",
    "print(x, y, z)"
   ]
  },
  {
   "cell_type": "markdown",
   "metadata": {},
   "source": [
    "7. Convert 39 to an octal number using floor division and mod operators. Then, compare your answer using oct() and int() functions."
   ]
  },
  {
   "cell_type": "code",
   "execution_count": 13,
   "metadata": {},
   "outputs": [
    {
     "name": "stdout",
     "output_type": "stream",
     "text": [
      "Using floor div (//) and modulo (%) operators, integer 39 = 4 7 octal\n",
      "Using the 'oct()' function, oct(39) = 0o47\n"
     ]
    }
   ],
   "source": [
    "num4 = 39 \n",
    "oct1 = num4 // 8      # floor divide by 2^4 (8) gives most significant bit\n",
    "rem1 = num4 % 8\n",
    "\n",
    "print(f\"Using floor div (//) and modulo (%) operators, integer {num4} = {oct1} {r1} octal\")\n",
    "print(f\"Using the 'oct()' function, oct({num4}) =\",(oct(num4)))"
   ]
  },
  {
   "cell_type": "markdown",
   "metadata": {},
   "source": [
    "8. Convert 39 to a hexadecimal number using floor division and mod operators. Then, compare your answer using hex() and int() functions."
   ]
  },
  {
   "cell_type": "code",
   "execution_count": 14,
   "metadata": {},
   "outputs": [
    {
     "name": "stdout",
     "output_type": "stream",
     "text": [
      "Using floor div (//) and modulo (%) operators, integer 39 = 2 7 hex\n",
      "Using the 'hex()' function, 39 = 0x27\n"
     ]
    }
   ],
   "source": [
    "num5 = 39     \n",
    "h1 = 39 // 16   #floor divide 39 by 2^4 (16)\n",
    "r1 = 39 % 16\n",
    "print(f\"Using floor div (//) and modulo (%) operators, integer {num5} = {h1} {r1} hex\")\n",
    "print(f\"Using the 'hex()' function, {num5} =\",(hex(num5)))"
   ]
  },
  {
   "cell_type": "markdown",
   "metadata": {},
   "source": [
    "9. Ask a user for an amount and a tax rate in percentage. Then, display the amount, rate in percentage, calculated tax amount, and the total (amount + tax amount) in one <b>nice</b> formmated print statement."
   ]
  },
  {
   "cell_type": "code",
   "execution_count": 68,
   "metadata": {},
   "outputs": [
    {
     "name": "stdout",
     "output_type": "stream",
     "text": [
      "Enter amount ($): 347\n",
      "Enyer tax rate (%): 7\n"
     ]
    }
   ],
   "source": [
    "amount = float(input(\"Enter amount ($): \"))\n",
    "rate = float(input(\"Enter tax rate (%): \"))"
   ]
  },
  {
   "cell_type": "code",
   "execution_count": 69,
   "metadata": {},
   "outputs": [
    {
     "name": "stdout",
     "output_type": "stream",
     "text": [
      "Amount:\t$347.00\n",
      "Rate:\t7.00%\n",
      "Tax:\t$24.29\n",
      "Total:\t$371.29\n"
     ]
    }
   ],
   "source": [
    "tax_amt = amount * (rate/100)\n",
    "total = amount + tax_amt\n",
    "print(f\"Amount:\\t${amount:,.2f}\\nRate:\\t{rate:,.2f}%\\nTax:\\t${tax_amt:,.2f}\\nTotal:\\t${total:,.2f}\")   # Nice !"
   ]
  }
 ],
 "metadata": {
  "kernelspec": {
   "display_name": "Python 3",
   "language": "python",
   "name": "python3"
  },
  "language_info": {
   "codemirror_mode": {
    "name": "ipython",
    "version": 3
   },
   "file_extension": ".py",
   "mimetype": "text/x-python",
   "name": "python",
   "nbconvert_exporter": "python",
   "pygments_lexer": "ipython3",
   "version": "3.8.8"
  }
 },
 "nbformat": 4,
 "nbformat_minor": 4
}
